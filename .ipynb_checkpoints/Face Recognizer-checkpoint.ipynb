{
 "cells": [
  {
   "cell_type": "code",
   "execution_count": 1,
   "id": "e200e855-06d0-4905-bc92-084695cd9e23",
   "metadata": {},
   "outputs": [],
   "source": [
    "#1. Generate dataset\n",
    "#2. Train the classifier and save it\n",
    "#3. Detect the face and named it if it is already stored in our dataset "
   ]
  },
  {
   "cell_type": "markdown",
   "id": "93d5e203-57d3-4870-9dcb-396f598200b2",
   "metadata": {},
   "source": [
    "# Generate DataSet"
   ]
  },
  {
   "cell_type": "code",
   "execution_count": 3,
   "id": "fd96c9c5-a48b-41cd-8959-ef7cf5459520",
   "metadata": {},
   "outputs": [],
   "source": [
    "import cv2"
   ]
  },
  {
   "cell_type": "code",
   "execution_count": 4,
   "id": "557de0a1-dbda-463e-8a37-40ea56a85289",
   "metadata": {},
   "outputs": [
    {
     "name": "stderr",
     "output_type": "stream",
     "text": [
      "<>:9: SyntaxWarning: \"is\" with 'tuple' literal. Did you mean \"==\"?\n",
      "<>:9: SyntaxWarning: \"is\" with 'tuple' literal. Did you mean \"==\"?\n",
      "C:\\Users\\dixit\\AppData\\Local\\Temp\\ipykernel_19212\\1049750098.py:9: SyntaxWarning: \"is\" with 'tuple' literal. Did you mean \"==\"?\n",
      "  if faces is ():\n"
     ]
    }
   ],
   "source": [
    "def generate_dataset():\n",
    "    face_classifier = cv2.CascadeClassifier(\"haarcascade_frontalface_default.xml\")\n",
    "    def face_cropped(img):\n",
    "        gray = cv2.cvtColor(img, cv2.COLOR_BGR2GRAY)\n",
    "        faces = face_classifier.detectMultiScale(gray,1.3,5)\n",
    "        #scaling factor=1.3\n",
    "        #Minimum neighbour = 5\n",
    "\n",
    "        if faces is ():\n",
    "            return None\n",
    "        for(x,y,w,h) in faces:\n",
    "            cropped_face=img[y:y+h,x:x+w]\n",
    "        return cropped_face\n",
    "    cap = cv2.VideoCapture(0)\n",
    "    id=1\n",
    "    img_id=0\n",
    "\n",
    "    while True:\n",
    "        ret,frame = cap.read()\n",
    "        if face_cropped(frame) is not None:\n",
    "            img_id+=1\n",
    "            face = cv2.resize(face_cropped(frame),(200,200))\n",
    "            face = cv2.cvtColor(face, cv2.COLOR_BGR2GRAY)\n",
    "            file_name_path = \"C:/Users/dixit/Face Recognition/data/user.\"+str(id)+\".\"+str(img_id)+\".jpg\"\n",
    "            cv2.imwrite(file_name_path,face)\n",
    "            cv2.putText(face,str(img_id),(50,50),cv2.FONT_HERSHEY_COMPLEX,1, (0,255,0),2)\n",
    "            #(50,50) is the origin point from where the  text is to be written\n",
    "            #font scale = 1\n",
    "            #thickness = 2\n",
    "\n",
    "            cv2.imshow(\"Cropped face\",face)\n",
    "            if cv2.waitKey(1)==13 or int(img_id)==200:\n",
    "                break\n",
    "    cap.release()\n",
    "    cv2.destroyAllWindows()\n",
    "    print(\"Collecting samples is Completed......\")\n",
    "#generate_dataset() "
   ]
  },
  {
   "cell_type": "markdown",
   "id": "f986da21-da5c-40aa-b394-12b8907120ef",
   "metadata": {},
   "source": [
    "# Train the Classifier and Save it"
   ]
  },
  {
   "cell_type": "code",
   "execution_count": 6,
   "id": "64cda02d-d142-4c58-a3ce-c12f64d6f37f",
   "metadata": {},
   "outputs": [],
   "source": [
    "import numpy as np\n",
    "from PIL import Image\n",
    "import os\n",
    "import cv2"
   ]
  },
  {
   "cell_type": "code",
   "execution_count": 7,
   "id": "363f37d9-8f54-424d-867c-76f42547aae5",
   "metadata": {},
   "outputs": [],
   "source": [
    "def train_classifier(data_dir):\n",
    "    path = [os.path.join(data_dir, f) for f in os.listdir(data_dir)]\n",
    "    faces = []\n",
    "    ids = []\n",
    "    for image in path:\n",
    "        img = Image.open(image).convert('L')\n",
    "        imageNp = np.array(img, 'uint8')\n",
    "        id = int(os.path.split(image)[1].split(\".\")[1])\n",
    "        faces.append(imageNp)\n",
    "        ids.append(id)\n",
    "    ids = np.array(ids)\n",
    "    # Train the Classifier and Save\n",
    "    clf = cv2.face.LBPHFaceRecognizer_create()\n",
    "    clf.train(faces, ids)\n",
    "    clf.write(\"classifier.xml\")\n",
    "\n",
    "train_classifier(\"data\")\n"
   ]
  },
  {
   "cell_type": "markdown",
   "id": "6ae7d9a1-3065-4baa-a080-c0765c9486b8",
   "metadata": {},
   "source": [
    "# Detect the face and name it if it is already stored in our Dataset"
   ]
  },
  {
   "cell_type": "code",
   "execution_count": 9,
   "id": "d08e7d38-78df-47a3-ac8c-8deff10b2192",
   "metadata": {},
   "outputs": [],
   "source": [
    "import cv2 \n",
    "import numpy as np\n",
    "from PIL import Image\n",
    "import os"
   ]
  },
  {
   "cell_type": "code",
   "execution_count": null,
   "id": "5f530411-3d74-42cc-8ea5-b9b090554cd5",
   "metadata": {},
   "outputs": [],
   "source": [
    "import cv2\n",
    "import os\n",
    "import numpy as np\n",
    "from PIL import Image\n",
    "\n",
    "def draw_boundary(img, classifier, scaleFactor, minNeighbors, color, text, clf):\n",
    "    gray_img = cv2.cvtColor(img, cv2.COLOR_BGR2GRAY)\n",
    "    features = classifier.detectMultiScale(gray_img, scaleFactor, minNeighbors)\n",
    "\n",
    "    for (x, y, w, h) in features:\n",
    "        cv2.rectangle(img, (x, y), (x + w, y + h), color, 2)\n",
    "        id, pred = clf.predict(gray_img[y:y+h, x:x+w])\n",
    "        confidence = int(100 * (1 - pred / 300))\n",
    "        \n",
    "        if confidence > 72:\n",
    "            if id == 1:\n",
    "                cv2.putText(img, \"Shikhar\", (x, y - 5), cv2.FONT_HERSHEY_SIMPLEX, 0.8, color, 1, cv2.LINE_AA)\n",
    "            elif id == 2:\n",
    "                cv2.putText(img, \"Swatantra\", (x, y - 5), cv2.FONT_HERSHEY_SIMPLEX, 0.8, color, 1, cv2.LINE_AA)\n",
    "        else:\n",
    "            cv2.putText(img, \"UNKNOWN\", (x, y - 5), cv2.FONT_HERSHEY_SIMPLEX, 0.8, (0, 0, 255), 1, cv2.LINE_AA)\n",
    "\n",
    "    return img\n",
    "\n",
    "# Load classifier\n",
    "faceCascade = cv2.CascadeClassifier(\"haarcascade_frontalface_default.xml\")\n",
    "clf = cv2.face.LBPHFaceRecognizer_create()\n",
    "clf.read(\"classifier.xml\")\n",
    "\n",
    "# Initialize video capture\n",
    "video_capture = cv2.VideoCapture(0)\n",
    "if not video_capture.isOpened():\n",
    "    print(\"Error: Could not open video device\")\n",
    "    exit()\n",
    "\n",
    "while True:\n",
    "    ret, img = video_capture.read()\n",
    "    if not ret:\n",
    "        print(\"Failed to capture image\")\n",
    "        break\n",
    "\n",
    "    img = draw_boundary(img, faceCascade, 1.3, 6, (255, 255, 255), \"Face\", clf)\n",
    "    cv2.imshow(\"Face Detection\", img)\n",
    "\n",
    "    if cv2.waitKey(1) == 13:  # Enter key to exit\n",
    "        break\n",
    "\n",
    "video_capture.release()\n",
    "cv2.destroyAllWindows()\n"
   ]
  },
  {
   "cell_type": "code",
   "execution_count": null,
   "id": "da7d50af-2a18-46e3-9b85-476c909953ae",
   "metadata": {},
   "outputs": [],
   "source": []
  }
 ],
 "metadata": {
  "kernelspec": {
   "display_name": "Python 3 (ipykernel)",
   "language": "python",
   "name": "python3"
  },
  "language_info": {
   "codemirror_mode": {
    "name": "ipython",
    "version": 3
   },
   "file_extension": ".py",
   "mimetype": "text/x-python",
   "name": "python",
   "nbconvert_exporter": "python",
   "pygments_lexer": "ipython3",
   "version": "3.12.4"
  }
 },
 "nbformat": 4,
 "nbformat_minor": 5
}
